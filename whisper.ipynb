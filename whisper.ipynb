{
 "cells": [
  {
   "cell_type": "code",
   "execution_count": 1,
   "metadata": {},
   "outputs": [
    {
     "name": "stderr",
     "output_type": "stream",
     "text": [
      "/home/onil/anaconda3/envs/whs/lib/python3.9/site-packages/tqdm/auto.py:22: TqdmWarning: IProgress not found. Please update jupyter and ipywidgets. See https://ipywidgets.readthedocs.io/en/stable/user_install.html\n",
      "  from .autonotebook import tqdm as notebook_tqdm\n"
     ]
    }
   ],
   "source": [
    "import whisper\n",
    "import os\n",
    "from glob import glob\n",
    "from docx import Document\n",
    "from datetime import timedelta"
   ]
  },
  {
   "cell_type": "code",
   "execution_count": 2,
   "metadata": {},
   "outputs": [],
   "source": [
    "model = whisper.load_model(\"medium\")"
   ]
  },
  {
   "cell_type": "code",
   "execution_count": 3,
   "metadata": {},
   "outputs": [],
   "source": [
    "def parse_segments(segments):\n",
    "    text = []\n",
    "    for segment in segments:\n",
    "        text.append(segment['text'].lstrip())\n",
    "        text.append('\\n')\n",
    "\n",
    "    return ''.join(text)\n"
   ]
  },
  {
   "cell_type": "code",
   "execution_count": 4,
   "metadata": {},
   "outputs": [
    {
     "name": "stdout",
     "output_type": "stream",
     "text": [
      "A-10C Intense Close Air Support.mp3\n"
     ]
    }
   ],
   "source": [
    "for file_name in glob('*.mp3'):\n",
    "    print(file_name)\n",
    "    outfile, _ = os.path.splitext(file_name)\n",
    "    result = model.transcribe(file_name)\n",
    "\n",
    "    document = Document()\n",
    "    document.add_paragraph(parse_segments(result['segments']))\n",
    "    document.save(outfile + '.docx')"
   ]
  },
  {
   "cell_type": "markdown",
   "metadata": {},
   "source": [
    "# MP4 to MP3"
   ]
  },
  {
   "cell_type": "code",
   "execution_count": 8,
   "metadata": {},
   "outputs": [
    {
     "name": "stdout",
     "output_type": "stream",
     "text": [
      "MoviePy - Writing audio in GMT20221101-013136_Recording_as_1440x900.mp3\n"
     ]
    },
    {
     "name": "stderr",
     "output_type": "stream",
     "text": [
      "                                                                          "
     ]
    },
    {
     "name": "stdout",
     "output_type": "stream",
     "text": [
      "MoviePy - Done.\n"
     ]
    },
    {
     "name": "stderr",
     "output_type": "stream",
     "text": [
      "\r"
     ]
    }
   ],
   "source": [
    "from moviepy.editor import *\n",
    "video = VideoFileClip(\"GMT20221101-013136_Recording_as_1440x900.mp4\")\n",
    "video.audio.write_audiofile(\"GMT20221101-013136_Recording_as_1440x900.mp3\")"
   ]
  },
  {
   "attachments": {},
   "cell_type": "markdown",
   "metadata": {},
   "source": [
    "# Add subtitles to mp4"
   ]
  },
  {
   "cell_type": "code",
   "execution_count": 30,
   "metadata": {},
   "outputs": [
    {
     "name": "stdout",
     "output_type": "stream",
     "text": [
      "Moviepy - Building video videos/output.mp4.\n",
      "MoviePy - Writing audio in outputTEMP_MPY_wvf_snd.mp3\n"
     ]
    },
    {
     "name": "stderr",
     "output_type": "stream",
     "text": [
      "                                                                      \r"
     ]
    },
    {
     "name": "stdout",
     "output_type": "stream",
     "text": [
      "MoviePy - Done.\n",
      "Moviepy - Writing video videos/output.mp4\n",
      "\n"
     ]
    },
    {
     "name": "stderr",
     "output_type": "stream",
     "text": [
      "                                                                 \r"
     ]
    },
    {
     "name": "stdout",
     "output_type": "stream",
     "text": [
      "Moviepy - Done !\n",
      "Moviepy - video ready videos/output.mp4\n"
     ]
    }
   ],
   "source": [
    "from moviepy.editor import VideoFileClip, TextClip, CompositeVideoClip\n",
    "\n",
    "\n",
    "# Load the video\n",
    "video = VideoFileClip(\"videos/A-10C Intense Close Air Support.mp4\")\n",
    "\n",
    "# Load the transcript file\n",
    "transcript = result['segments']\n",
    "\n",
    "# Create a subtitles clip\n",
    "txt_clips = []\n",
    "for text in transcript:\n",
    "  subtitle = text['text']\n",
    "  txt_clip = TextClip(subtitle,fontsize = 12,  font=\"Amiri-Bold\", kerning=1, bg_color = 'black', color='white')\n",
    "  txt_clip = txt_clip.set_start(text['start'])\n",
    "  txt_clip = txt_clip.set_pos((0.5,0.5)).set_duration(text['end']-text['start'])\n",
    "  txt_clips.append(txt_clip)  \n",
    "  \n",
    "\n",
    "# concatenate the video and subtitles\n",
    "final_video = CompositeVideoClip([video]+txt_clips)\n",
    "\n",
    "# Save the final video\n",
    "final_video.write_videofile(\"videos/output.mp4\")"
   ]
  },
  {
   "attachments": {},
   "cell_type": "markdown",
   "metadata": {},
   "source": [
    "# Download videos from Youtube for testing "
   ]
  },
  {
   "cell_type": "code",
   "execution_count": 1,
   "metadata": {},
   "outputs": [
    {
     "data": {
      "text/plain": [
       "'/home/onil/Documents/whisper_subtitles/./videos/Rick Astley - Never Gonna Give You Up (Official Music Video).mp4'"
      ]
     },
     "execution_count": 1,
     "metadata": {},
     "output_type": "execute_result"
    }
   ],
   "source": [
    "from pytube import YouTube\n",
    "\n",
    "link = \"https://www.youtube.com/watch?v=dQw4w9WgXcQ\"\n",
    "yt = YouTube(link)\n",
    "\n",
    "# Download the video with the highest resolution and file type (usually mp4)\n",
    "video = yt.streams.filter(progressive=True, file_extension='mp4').order_by('resolution').desc().first()\n",
    "video.download('./videos/')"
   ]
  },
  {
   "cell_type": "code",
   "execution_count": null,
   "metadata": {},
   "outputs": [],
   "source": []
  }
 ],
 "metadata": {
  "kernelspec": {
   "display_name": "Python 3.9.13 ('whs')",
   "language": "python",
   "name": "python3"
  },
  "language_info": {
   "codemirror_mode": {
    "name": "ipython",
    "version": 3
   },
   "file_extension": ".py",
   "mimetype": "text/x-python",
   "name": "python",
   "nbconvert_exporter": "python",
   "pygments_lexer": "ipython3",
   "version": "3.9.13"
  },
  "orig_nbformat": 4,
  "vscode": {
   "interpreter": {
    "hash": "0eff175efddaf31c25e2ed77463425fca0e385660587504c58361a0a669e8d78"
   }
  }
 },
 "nbformat": 4,
 "nbformat_minor": 2
}
