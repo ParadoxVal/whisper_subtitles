{
 "cells": [
  {
   "cell_type": "code",
   "execution_count": 2,
   "metadata": {},
   "outputs": [],
   "source": [
    "import whisper\n",
    "import os\n",
    "from glob import glob\n",
    "from docx import Document"
   ]
  },
  {
   "cell_type": "code",
   "execution_count": 4,
   "metadata": {},
   "outputs": [],
   "source": [
    "model = whisper.load_model(\"medium\")"
   ]
  },
  {
   "cell_type": "code",
   "execution_count": 5,
   "metadata": {},
   "outputs": [
    {
     "name": "stdout",
     "output_type": "stream",
     "text": [
      "Physiology Special Curculations .mp3\n",
      "Physiology-Blood Presser 1_19_2023 .mp3\n",
      "Physiology – Vascular Physiology Workshop 1.19.23.mp3\n",
      "Biochemistry - Plasma Proteins and Diagnostics 1_17_2023 .mp3\n",
      "Biochemistry-Cholesterol and Lipoprotein Metabolism (ON CAMPUS) 1_19_2023 11_17 AM.mp3\n",
      "Genetics – Lipoprotein Metabolism 1_19_2023 .mp3\n",
      "Anatomy - Pulmonary Histology_1_23_23.mp3\n",
      "Anatomy - Functional Anatomy of Chest Wall_1_03_2023.mp3\n",
      "Anatomy – Pulmonary Embryology_1_23_23.mp3\n",
      "Biochemistry - Coagulation and Hemostasis 1_18_2023 12_21 PM.mp3\n",
      "Anatomy of the Heart_1_4_23.mp3\n"
     ]
    }
   ],
   "source": [
    "for file_name in glob('*.mp3'):\n",
    "    print(file_name)\n",
    "    outfile, _ = os.path.splitext(file_name)\n",
    "    result = model.transcribe(file_name)\n",
    "    document = Document()\n",
    "    document.add_paragraph(result['text'])\n",
    "    document.save(outfile + '.docx')"
   ]
  },
  {
   "cell_type": "markdown",
   "metadata": {},
   "source": [
    "# MP4 to MP3"
   ]
  },
  {
   "cell_type": "code",
   "execution_count": 8,
   "metadata": {},
   "outputs": [
    {
     "name": "stdout",
     "output_type": "stream",
     "text": [
      "MoviePy - Writing audio in GMT20221101-013136_Recording_as_1440x900.mp3\n"
     ]
    },
    {
     "name": "stderr",
     "output_type": "stream",
     "text": [
      "                                                                          "
     ]
    },
    {
     "name": "stdout",
     "output_type": "stream",
     "text": [
      "MoviePy - Done.\n"
     ]
    },
    {
     "name": "stderr",
     "output_type": "stream",
     "text": [
      "\r"
     ]
    }
   ],
   "source": [
    "from moviepy.editor import *\n",
    "video = VideoFileClip(\"GMT20221101-013136_Recording_as_1440x900.mp4\")\n",
    "video.audio.write_audiofile(\"GMT20221101-013136_Recording_as_1440x900.mp3\")"
   ]
  },
  {
   "cell_type": "code",
   "execution_count": null,
   "metadata": {},
   "outputs": [],
   "source": []
  }
 ],
 "metadata": {
  "kernelspec": {
   "display_name": "Python 3.9.13 ('whs')",
   "language": "python",
   "name": "python3"
  },
  "language_info": {
   "codemirror_mode": {
    "name": "ipython",
    "version": 3
   },
   "file_extension": ".py",
   "mimetype": "text/x-python",
   "name": "python",
   "nbconvert_exporter": "python",
   "pygments_lexer": "ipython3",
   "version": "3.9.13 (main, Oct 13 2022, 21:15:33) \n[GCC 11.2.0]"
  },
  "orig_nbformat": 4,
  "vscode": {
   "interpreter": {
    "hash": "0eff175efddaf31c25e2ed77463425fca0e385660587504c58361a0a669e8d78"
   }
  }
 },
 "nbformat": 4,
 "nbformat_minor": 2
}
